{
  "nbformat": 4,
  "nbformat_minor": 0,
  "metadata": {
    "colab": {
      "provenance": [],
      "authorship_tag": "ABX9TyPq+/q7y/ENsl52RIsg8Zph",
      "include_colab_link": true
    },
    "kernelspec": {
      "name": "python3",
      "display_name": "Python 3"
    },
    "language_info": {
      "name": "python"
    }
  },
  "cells": [
    {
      "cell_type": "markdown",
      "metadata": {
        "id": "view-in-github",
        "colab_type": "text"
      },
      "source": [
        "<a href=\"https://colab.research.google.com/github/Hima-232bindhu/crt-0104/blob/main/DAY_10.ipynb\" target=\"_parent\"><img src=\"https://colab.research.google.com/assets/colab-badge.svg\" alt=\"Open In Colab\"/></a>"
      ]
    },
    {
      "cell_type": "code",
      "execution_count": 1,
      "metadata": {
        "colab": {
          "base_uri": "https://localhost:8080/"
        },
        "id": "uTdO-nbfiD8V",
        "outputId": "c1c927b2-18e7-42eb-9afa-c3e084eff6a4"
      },
      "outputs": [
        {
          "output_type": "stream",
          "name": "stdout",
          "text": [
            "Original: Hello, World! Welcome to NLP 101.\n",
            "Cleaned: hello world welcome to nlp 101\n",
            "Original: Contact us at support@example.com and sales@example.org.\n",
            "Extracted Emails: ['support@example.com', 'sales@example.org']\n"
          ]
        }
      ],
      "source": [
        "import re\n",
        "\n",
        "def clean_text(text):\n",
        "    \"\"\"\n",
        "    Cleans the given text by removing special characters and converting it to lowercase.\n",
        "\n",
        "    Args:\n",
        "        text (str): The text to be cleaned.\n",
        "\n",
        "    Returns:\n",
        "        str: The cleaned text.\n",
        "    \"\"\"\n",
        "    # Remove special characters using a regular expression\n",
        "    text = re.sub(r'[^a-zA-Z0-9\\s]', '', text)\n",
        "    # Convert text to lowercase\n",
        "    text = text.lower()\n",
        "    return text\n",
        "\n",
        "def extract_emails(text):\n",
        "    \"\"\"\n",
        "    Extracts all email addresses from the given text using regular expressions.\n",
        "\n",
        "    Args:\n",
        "        text (str): The text to extract email addresses from.\n",
        "\n",
        "    Returns:\n",
        "        list: A list of extracted email addresses.\n",
        "    \"\"\"\n",
        "    # Regular expression to match email addresses\n",
        "    email_pattern = r'[a-zA-Z0-9._%+-]+@[a-zA-Z0-9.-]+\\.[a-zA-Z]{2,}'\n",
        "    return re.findall(email_pattern, text)\n",
        "\n",
        "# Test the functions\n",
        "test_input_clean = 'Hello, World! Welcome to NLP 101.'\n",
        "cleaned_text = clean_text(test_input_clean)\n",
        "print(f\"Original: {test_input_clean}\")\n",
        "print(f\"Cleaned: {cleaned_text}\")\n",
        "\n",
        "# Test email extraction\n",
        "test_input_emails = 'Contact us at support@example.com and sales@example.org.'\n",
        "extracted_emails = extract_emails(test_input_emails)\n",
        "print(f\"Original: {test_input_emails}\")\n",
        "print(f\"Extracted Emails: {extracted_emails}\")\n"
      ]
    }
  ]
}