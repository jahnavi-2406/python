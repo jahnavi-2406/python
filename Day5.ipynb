{
  "nbformat": 4,
  "nbformat_minor": 0,
  "metadata": {
    "colab": {
      "provenance": [],
      "authorship_tag": "ABX9TyONn9LpwFAnZp44pDJGgnjP",
      "include_colab_link": true
    },
    "kernelspec": {
      "name": "python3",
      "display_name": "Python 3"
    },
    "language_info": {
      "name": "python"
    }
  },
  "cells": [
    {
      "cell_type": "markdown",
      "metadata": {
        "id": "view-in-github",
        "colab_type": "text"
      },
      "source": [
        "<a href=\"https://colab.research.google.com/github/jahnavi-2406/python/blob/main/Day5.ipynb\" target=\"_parent\"><img src=\"https://colab.research.google.com/assets/colab-badge.svg\" alt=\"Open In Colab\"/></a>"
      ]
    },
    {
      "cell_type": "code",
      "execution_count": 1,
      "metadata": {
        "colab": {
          "base_uri": "https://localhost:8080/"
        },
        "id": "JUsjLcvElFSW",
        "outputId": "ca0e3995-bcd1-41b7-b7ad-1d9592d6e6df"
      },
      "outputs": [
        {
          "output_type": "stream",
          "name": "stdout",
          "text": [
            "Enter your text: hello\n",
            "hello: 1\n"
          ]
        }
      ],
      "source": [
        "from collections import Counter\n",
        "\n",
        "def word_frequency(text):\n",
        "    \"\"\"Calculates the frequency of each word in a given text.\n",
        "\n",
        "    Args:\n",
        "        text: The input text.\n",
        "\n",
        "    Returns:\n",
        "        A dictionary where keys are words and values are their frequencies.\n",
        "    \"\"\"\n",
        "    words = text.lower().split()\n",
        "    word_counts = Counter(words)\n",
        "    return word_counts\n",
        "\n",
        "# Get input text from the user\n",
        "text = input(\"Enter your text: \")\n",
        "\n",
        "# Calculate word frequencies\n",
        "frequencies = word_frequency(text)\n",
        "\n",
        "# Print words and their frequencies\n",
        "for word, count in frequencies.items():\n",
        "    print(f\"{word}: {count}\")"
      ]
    }
  ]
}