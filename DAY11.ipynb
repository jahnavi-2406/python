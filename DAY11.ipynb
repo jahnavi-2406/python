{
  "nbformat": 4,
  "nbformat_minor": 0,
  "metadata": {
    "colab": {
      "provenance": [],
      "authorship_tag": "ABX9TyMGPFbl4IuH9aKB2AWNU0f2",
      "include_colab_link": true
    },
    "kernelspec": {
      "name": "python3",
      "display_name": "Python 3"
    },
    "language_info": {
      "name": "python"
    }
  },
  "cells": [
    {
      "cell_type": "markdown",
      "metadata": {
        "id": "view-in-github",
        "colab_type": "text"
      },
      "source": [
        "<a href=\"https://colab.research.google.com/github/Hima-232bindhu/crt-0104/blob/main/DAY11.ipynb\" target=\"_parent\"><img src=\"https://colab.research.google.com/assets/colab-badge.svg\" alt=\"Open In Colab\"/></a>"
      ]
    },
    {
      "cell_type": "code",
      "execution_count": 1,
      "metadata": {
        "colab": {
          "base_uri": "https://localhost:8080/"
        },
        "id": "x1vxIaUSiqQo",
        "outputId": "6de756f7-dcdc-4fba-dfb3-d710690fb6ec"
      },
      "outputs": [
        {
          "output_type": "stream",
          "name": "stdout",
          "text": [
            "Original: Hello, World! Welcome to NLP 101.\n",
            "Cleaned: hello world welcome to nlp 101\n",
            "Original: Contact us at support@example.com and sales@example.org.\n",
            "Extracted Emails: ['support@example.com', 'sales@example.org']\n",
            "URL: https://example.com\n",
            "Webpage Title: Example Domain\n"
          ]
        }
      ],
      "source": [
        "import re\n",
        "import requests\n",
        "from bs4 import BeautifulSoup\n",
        "\n",
        "def clean_text(text):\n",
        "    \"\"\"\n",
        "    Cleans the given text by removing special characters and converting it to lowercase.\n",
        "\n",
        "    Args:\n",
        "        text (str): The text to be cleaned.\n",
        "\n",
        "    Returns:\n",
        "        str: The cleaned text.\n",
        "    \"\"\"\n",
        "    # Remove special characters using a regular expression\n",
        "    text = re.sub(r'[^a-zA-Z0-9\\s]', '', text)\n",
        "    # Convert text to lowercase\n",
        "    text = text.lower()\n",
        "    return text\n",
        "\n",
        "def extract_emails(text):\n",
        "    \"\"\"\n",
        "    Extracts all email addresses from the given text using regular expressions.\n",
        "\n",
        "    Args:\n",
        "        text (str): The text to extract email addresses from.\n",
        "\n",
        "    Returns:\n",
        "        list: A list of extracted email addresses.\n",
        "    \"\"\"\n",
        "    # Regular expression to match email addresses\n",
        "    email_pattern = r'[a-zA-Z0-9._%+-]+@[a-zA-Z0-9.-]+\\.[a-zA-Z]{2,}'\n",
        "    return re.findall(email_pattern, text)\n",
        "\n",
        "def fetch_webpage_title(url):\n",
        "    \"\"\"\n",
        "    Fetches and prints the title of a webpage.\n",
        "\n",
        "    Args:\n",
        "        url (str): The URL of the webpage.\n",
        "\n",
        "    Returns:\n",
        "        str: The title of the webpage.\n",
        "    \"\"\"\n",
        "    try:\n",
        "        response = requests.get(url)\n",
        "        response.raise_for_status()\n",
        "        soup = BeautifulSoup(response.text, 'html.parser')\n",
        "        title = soup.title.string if soup.title else 'No title found'\n",
        "        return title\n",
        "    except requests.exceptions.RequestException as e:\n",
        "        return f\"Error fetching the webpage: {e}\"\n",
        "\n",
        "# Test the functions\n",
        "test_input_clean = 'Hello, World! Welcome to NLP 101.'\n",
        "cleaned_text = clean_text(test_input_clean)\n",
        "print(f\"Original: {test_input_clean}\")\n",
        "print(f\"Cleaned: {cleaned_text}\")\n",
        "\n",
        "# Test email extraction\n",
        "test_input_emails = 'Contact us at support@example.com and sales@example.org.'\n",
        "extracted_emails = extract_emails(test_input_emails)\n",
        "print(f\"Original: {test_input_emails}\")\n",
        "print(f\"Extracted Emails: {extracted_emails}\")\n",
        "\n",
        "# Test webpage title fetching\n",
        "test_url = 'https://example.com'\n",
        "webpage_title = fetch_webpage_title(test_url)\n",
        "print(f\"URL: {test_url}\")\n",
        "print(f\"Webpage Title: {webpage_title}\")\n"
      ]
    }
  ]
}