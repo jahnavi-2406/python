{
  "nbformat": 4,
  "nbformat_minor": 0,
  "metadata": {
    "colab": {
      "provenance": [],
      "authorship_tag": "ABX9TyPA6bOppDX05qYtjThnTDKK",
      "include_colab_link": true
    },
    "kernelspec": {
      "name": "python3",
      "display_name": "Python 3"
    },
    "language_info": {
      "name": "python"
    }
  },
  "cells": [
    {
      "cell_type": "markdown",
      "metadata": {
        "id": "view-in-github",
        "colab_type": "text"
      },
      "source": [
        "<a href=\"https://colab.research.google.com/github/jahnavi-2406/python/blob/main/DAY_3.ipynb\" target=\"_parent\"><img src=\"https://colab.research.google.com/assets/colab-badge.svg\" alt=\"Open In Colab\"/></a>"
      ]
    },
    {
      "cell_type": "code",
      "execution_count": 1,
      "metadata": {
        "colab": {
          "base_uri": "https://localhost:8080/"
        },
        "id": "dcm22Q5Pd39O",
        "outputId": "2a4e3d21-b117-4e65-faca-c014077c8665"
      },
      "outputs": [
        {
          "output_type": "stream",
          "name": "stdout",
          "text": [
            "List elements:\n",
            "Element at index 0: 10\n",
            "Element at index 3: 40\n",
            "Last element: 50\n",
            "\n",
            "Tuple elements:\n",
            "Element at index 1: banana\n",
            "Element at index 4: elderberry\n",
            "First three elements: ('apple', 'banana', 'cherry')\n",
            "\n",
            "Dictionary elements:\n",
            "Value for key 'name': Alice\n",
            "Value for key 'job': Engineer\n",
            "Keys in dictionary: ['name', 'age', 'city', 'job', 'hobby']\n",
            "Values in dictionary: ['Alice', 25, 'New York', 'Engineer', 'Reading']\n"
          ]
        }
      ],
      "source": [
        "my_list = [10, 20, 30, 40, 50]\n",
        "my_tuple = (\"apple\", \"banana\", \"cherry\", \"date\", \"elderberry\")\n",
        "my_dict = {\"name\": \"Alice\", \"age\": 25, \"city\": \"New York\", \"job\": \"Engineer\", \"hobby\": \"Reading\"}\n",
        "#LIST\n",
        "print(\"List elements:\")\n",
        "print(\"Element at index 0:\", my_list[0])\n",
        "print(\"Element at index 3:\", my_list[3])\n",
        "print(\"Last element:\", my_list[-1])\n",
        "#TUPLE\n",
        "print(\"\\nTuple elements:\")\n",
        "print(\"Element at index 1:\", my_tuple[1])\n",
        "print(\"Element at index 4:\", my_tuple[4])\n",
        "print(\"First three elements:\", my_tuple[:3])\n",
        "#DICTIONARY\n",
        "print(\"\\nDictionary elements:\")\n",
        "print(\"Value for key 'name':\", my_dict[\"name\"])\n",
        "print(\"Value for key 'job':\", my_dict[\"job\"])\n",
        "print(\"Keys in dictionary:\", list(my_dict.keys()))\n",
        "print(\"Values in dictionary:\", list(my_dict.values()))"
      ]
    }
  ]
}