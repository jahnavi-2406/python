{
  "nbformat": 4,
  "nbformat_minor": 0,
  "metadata": {
    "colab": {
      "provenance": [],
      "authorship_tag": "ABX9TyMoQ/la35qWgZ6Aqm98zukC",
      "include_colab_link": true
    },
    "kernelspec": {
      "name": "python3",
      "display_name": "Python 3"
    },
    "language_info": {
      "name": "python"
    }
  },
  "cells": [
    {
      "cell_type": "markdown",
      "metadata": {
        "id": "view-in-github",
        "colab_type": "text"
      },
      "source": [
        "<a href=\"https://colab.research.google.com/github/jahnavi-2406/python/blob/main/dot_product.ipynb\" target=\"_parent\"><img src=\"https://colab.research.google.com/assets/colab-badge.svg\" alt=\"Open In Colab\"/></a>"
      ]
    },
    {
      "cell_type": "code",
      "execution_count": 1,
      "metadata": {
        "colab": {
          "base_uri": "https://localhost:8080/"
        },
        "id": "PiRnoUR5fAUN",
        "outputId": "ffec665a-6b0b-4a01-e19e-a29c63f72601"
      },
      "outputs": [
        {
          "output_type": "stream",
          "name": "stdout",
          "text": [
            "The dot product of [2, 3, 4] and [5, 6, 7] is: None\n"
          ]
        }
      ],
      "source": [
        "def dot_product(vector1, vector2):\n",
        "    if len(vector1) != len(vector2):\n",
        "        raise ValueError(\"Vectors must have the same length for dot product calculation.\")\n",
        "        result = sum(x * y for x, y in zip(vector1, vector2))\n",
        "        return result\n",
        "vector_a = [2, 3, 4]\n",
        "vector_b = [5, 6, 7]\n",
        "result_dot_product = dot_product(vector_a, vector_b)\n",
        "\n",
        "print(f\"The dot product of {vector_a} and {vector_b} is: {result_dot_product}\")"
      ]
    }
  ]
}