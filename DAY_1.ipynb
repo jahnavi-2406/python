{
  "nbformat": 4,
  "nbformat_minor": 0,
  "metadata": {
    "colab": {
      "provenance": [],
      "authorship_tag": "ABX9TyMbsdFXwPEz6WQE6aWfUlDc",
      "include_colab_link": true
    },
    "kernelspec": {
      "name": "python3",
      "display_name": "Python 3"
    },
    "language_info": {
      "name": "python"
    }
  },
  "cells": [
    {
      "cell_type": "markdown",
      "metadata": {
        "id": "view-in-github",
        "colab_type": "text"
      },
      "source": [
        "<a href=\"https://colab.research.google.com/github/jahnavi-2406/python/blob/main/DAY_1.ipynb\" target=\"_parent\"><img src=\"https://colab.research.google.com/assets/colab-badge.svg\" alt=\"Open In Colab\"/></a>"
      ]
    },
    {
      "cell_type": "code",
      "execution_count": 1,
      "metadata": {
        "colab": {
          "base_uri": "https://localhost:8080/"
        },
        "id": "-FR5337mBj1J",
        "outputId": "72bd3e86-425e-4ac3-a2d0-a854cea9bcb3"
      },
      "outputs": [
        {
          "output_type": "stream",
          "name": "stdout",
          "text": [
            "Integer Variable:  10  | Type:  <class 'int'>\n",
            "Float Variable:  20.5  | Type:  <class 'float'>\n",
            "String Variable:  Hello, World!  | Type:  <class 'str'>\n",
            "Boolean Variable:  True  | Type:  <class 'bool'>\n"
          ]
        }
      ],
      "source": [
        "integer_variable = 10\n",
        "float_variable = 20.5\n",
        "string_variable = \"Hello, World!\"\n",
        "boolean_variable = True\n",
        "print(\"Integer Variable: \", integer_variable, \" | Type: \", type(integer_variable))\n",
        "print(\"Float Variable: \", float_variable, \" | Type: \", type(float_variable))\n",
        "print(\"String Variable: \", string_variable, \" | Type: \", type(string_variable))\n",
        "print(\"Boolean Variable: \", boolean_variable, \" | Type: \", type(boolean_variable))\n"
      ]
    }
  ]
}