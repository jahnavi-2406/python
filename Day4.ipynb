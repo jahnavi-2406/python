{
  "nbformat": 4,
  "nbformat_minor": 0,
  "metadata": {
    "colab": {
      "provenance": [],
      "authorship_tag": "ABX9TyPp++WBH5Pov8UlbXcAd1HX",
      "include_colab_link": true
    },
    "kernelspec": {
      "name": "python3",
      "display_name": "Python 3"
    },
    "language_info": {
      "name": "python"
    }
  },
  "cells": [
    {
      "cell_type": "markdown",
      "metadata": {
        "id": "view-in-github",
        "colab_type": "text"
      },
      "source": [
        "<a href=\"https://colab.research.google.com/github/jahnavi-2406/python/blob/main/Day4.ipynb\" target=\"_parent\"><img src=\"https://colab.research.google.com/assets/colab-badge.svg\" alt=\"Open In Colab\"/></a>"
      ]
    },
    {
      "cell_type": "code",
      "execution_count": 1,
      "metadata": {
        "colab": {
          "base_uri": "https://localhost:8080/"
        },
        "id": "pawoz393mvDj",
        "outputId": "ac161092-1460-47a1-b612-b18a62310490"
      },
      "outputs": [
        {
          "output_type": "stream",
          "name": "stdout",
          "text": [
            "Enter a positive integer: 10\n",
            "The sum of even numbers between 1 and 10 is: 30\n"
          ]
        }
      ],
      "source": [
        "def sum_of_even_numbers(n):\n",
        "  \"\"\"\n",
        "  Calculates the sum of all even numbers between 1 and n.\n",
        "\n",
        "  Args:\n",
        "    n: A positive integer.\n",
        "\n",
        "  Returns:\n",
        "    The sum of all even numbers between 1 and n.\n",
        "  \"\"\"\n",
        "  total = 0\n",
        "  for i in range(2, n + 1, 2):\n",
        "    total += i\n",
        "  return total\n",
        "\n",
        "# Get input from the user\n",
        "n = int(input(\"Enter a positive integer: \"))\n",
        "\n",
        "# Calculate and print the sum of even numbers\n",
        "result = sum_of_even_numbers(n)\n",
        "print(f\"The sum of even numbers between 1 and {n} is: {result}\")"
      ]
    }
  ]
}