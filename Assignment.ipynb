{
  "nbformat": 4,
  "nbformat_minor": 0,
  "metadata": {
    "colab": {
      "provenance": [],
      "authorship_tag": "ABX9TyMKKGGeWk6gmv/VJJFmUXlZ",
      "include_colab_link": true
    },
    "kernelspec": {
      "name": "python3",
      "display_name": "Python 3"
    },
    "language_info": {
      "name": "python"
    }
  },
  "cells": [
    {
      "cell_type": "markdown",
      "metadata": {
        "id": "view-in-github",
        "colab_type": "text"
      },
      "source": [
        "<a href=\"https://colab.research.google.com/github/jahnavi-2406/python/blob/main/Assignment.ipynb\" target=\"_parent\"><img src=\"https://colab.research.google.com/assets/colab-badge.svg\" alt=\"Open In Colab\"/></a>"
      ]
    },
    {
      "cell_type": "code",
      "execution_count": 1,
      "metadata": {
        "colab": {
          "base_uri": "https://localhost:8080/"
        },
        "id": "09gOcFv6Y-sJ",
        "outputId": "4dd1dec2-bbb7-474f-9da9-79459e8006dc"
      },
      "outputs": [
        {
          "output_type": "stream",
          "name": "stdout",
          "text": [
            "Enter a positive integer: 6\n",
            "The sum of even numbers between 1 and 6 is: 12\n"
          ]
        }
      ],
      "source": [
        "def sum_of_even_numbers(n):\n",
        "  \"\"\"Calculates the sum of even numbers from 1 to n.\n",
        "\n",
        "  Args:\n",
        "    n: A positive integer.\n",
        "\n",
        "  Returns:\n",
        "    The sum of even numbers from 1 to n.\n",
        "  \"\"\"\n",
        "\n",
        "  if n < 1:\n",
        "    raise ValueError(\"n must be a positive integer.\")\n",
        "\n",
        "  even_sum = 0\n",
        "  for i in range(2, n + 1, 2):\n",
        "    even_sum += i\n",
        "  return even_sum\n",
        "\n",
        "# Example usage:\n",
        "n = int(input(\"Enter a positive integer: \"))\n",
        "result = sum_of_even_numbers(n)\n",
        "print(f\"The sum of even numbers between 1 and {n} is: {result}\")"
      ]
    }
  ]
}