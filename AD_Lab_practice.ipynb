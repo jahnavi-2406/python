{
  "nbformat": 4,
  "nbformat_minor": 0,
  "metadata": {
    "colab": {
      "provenance": [],
      "authorship_tag": "ABX9TyMw5BdKSESSXNgwmC25ec2i",
      "include_colab_link": true
    },
    "kernelspec": {
      "name": "python3",
      "display_name": "Python 3"
    },
    "language_info": {
      "name": "python"
    }
  },
  "cells": [
    {
      "cell_type": "markdown",
      "metadata": {
        "id": "view-in-github",
        "colab_type": "text"
      },
      "source": [
        "<a href=\"https://colab.research.google.com/github/jahnavi-2406/python/blob/main/AD_Lab_practice.ipynb\" target=\"_parent\"><img src=\"https://colab.research.google.com/assets/colab-badge.svg\" alt=\"Open In Colab\"/></a>"
      ]
    },
    {
      "cell_type": "code",
      "execution_count": null,
      "metadata": {
        "colab": {
          "base_uri": "https://localhost:8080/"
        },
        "id": "meh1o567XNe0",
        "outputId": "829d428a-ead4-4fff-bf8b-85dc2c3810a7"
      },
      "outputs": [
        {
          "output_type": "stream",
          "name": "stdout",
          "text": [
            "Original Integer: 42\n",
            "Result after multiplication: 84\n"
          ]
        }
      ],
      "source": [
        "my_int = 42\n",
        "print(\"Original Integer:\", my_int)\n",
        "result = my_int * 2\n",
        "print(\"Result after multiplication:\", result)"
      ]
    },
    {
      "cell_type": "code",
      "source": [
        "my_list = [1, 2, 'hii']\n",
        "print(\"Original list:\", my_list)\n",
        "my_list.append('world')\n",
        "print(\"list after appending 'world':\", my_list)\n",
        "my_list.remove('hii')\n",
        "print(\"list after removing 'hii':\", my_list)\n",
        "my_list.insert(0, 1)\n",
        "print(\"List after inserting at the beginning:\", my_list)\n",
        "print(\"\\nSlicing with step (start:stop:step):\")\n",
        "print(my_list[1:8:2])\n",
        "print(\"\\nSlicing with negative indexing:\")\n",
        "print(my_list[-5:-2])\n",
        "\n",
        "\n"
      ],
      "metadata": {
        "colab": {
          "base_uri": "https://localhost:8080/"
        },
        "id": "Mc9RCOCeallg",
        "outputId": "a49548b9-3525-4e7c-def8-12fece637b0f"
      },
      "execution_count": null,
      "outputs": [
        {
          "output_type": "stream",
          "name": "stdout",
          "text": [
            "Original list: [1, 2, 'hii']\n",
            "list after appending 'world': [1, 2, 'hii', 'world']\n",
            "list after removing 'hii': [1, 2, 'world']\n",
            "List after inserting at the beginning: [1, 1, 2, 'world']\n",
            "\n",
            "Slicing with step (start:stop:step):\n",
            "[1, 'world']\n",
            "\n",
            "Slicing with negative indexing:\n",
            "[1, 1]\n"
          ]
        }
      ]
    },
    {
      "cell_type": "code",
      "source": [
        "my_tuple = [1, 2, 'hii']\n",
        "print(\"Original Tuple:\", my_tuple)\n",
        "print(\"First element:\", my_tuple[0])\n",
        "print(\"Last element:\", my_tuple[-1])\n",
        "\n"
      ],
      "metadata": {
        "colab": {
          "base_uri": "https://localhost:8080/"
        },
        "id": "-qoCeW2ScJqx",
        "outputId": "7021b829-4bce-4612-e609-1bdfaded6392"
      },
      "execution_count": null,
      "outputs": [
        {
          "output_type": "stream",
          "name": "stdout",
          "text": [
            "Original Tuple: [1, 2, 'hii']\n",
            "First element: 1\n",
            "Last element: hii\n"
          ]
        }
      ]
    },
    {
      "cell_type": "code",
      "source": [
        "print(dir(str))"
      ],
      "metadata": {
        "colab": {
          "base_uri": "https://localhost:8080/"
        },
        "id": "ZRS8CoY3MmWA",
        "outputId": "06e3487a-8158-425c-ac99-16623d0372ef"
      },
      "execution_count": 1,
      "outputs": [
        {
          "output_type": "stream",
          "name": "stdout",
          "text": [
            "['__add__', '__class__', '__contains__', '__delattr__', '__dir__', '__doc__', '__eq__', '__format__', '__ge__', '__getattribute__', '__getitem__', '__getnewargs__', '__gt__', '__hash__', '__init__', '__init_subclass__', '__iter__', '__le__', '__len__', '__lt__', '__mod__', '__mul__', '__ne__', '__new__', '__reduce__', '__reduce_ex__', '__repr__', '__rmod__', '__rmul__', '__setattr__', '__sizeof__', '__str__', '__subclasshook__', 'capitalize', 'casefold', 'center', 'count', 'encode', 'endswith', 'expandtabs', 'find', 'format', 'format_map', 'index', 'isalnum', 'isalpha', 'isascii', 'isdecimal', 'isdigit', 'isidentifier', 'islower', 'isnumeric', 'isprintable', 'isspace', 'istitle', 'isupper', 'join', 'ljust', 'lower', 'lstrip', 'maketrans', 'partition', 'removeprefix', 'removesuffix', 'replace', 'rfind', 'rindex', 'rjust', 'rpartition', 'rsplit', 'rstrip', 'split', 'splitlines', 'startswith', 'strip', 'swapcase', 'title', 'translate', 'upper', 'zfill']\n"
          ]
        }
      ]
    },
    {
      "cell_type": "code",
      "source": [
        "a = 'hello world'\n",
        "b = a.upper()\n",
        "print(b)"
      ],
      "metadata": {
        "colab": {
          "base_uri": "https://localhost:8080/"
        },
        "id": "PImbmRsIM31U",
        "outputId": "92a7408b-4574-4e91-f653-40f3c2843075"
      },
      "execution_count": 3,
      "outputs": [
        {
          "output_type": "stream",
          "name": "stdout",
          "text": [
            "HELLO WORLD\n"
          ]
        }
      ]
    },
    {
      "cell_type": "code",
      "source": [
        "a = 'hello world'\n",
        "b = a.replace('hello', 'hii')\n",
        "print(b)"
      ],
      "metadata": {
        "colab": {
          "base_uri": "https://localhost:8080/"
        },
        "id": "_DjxG41uPMEn",
        "outputId": "c2a9f0a3-eb25-4887-f326-30bd9262ad73"
      },
      "execution_count": 7,
      "outputs": [
        {
          "output_type": "stream",
          "name": "stdout",
          "text": [
            "hii world\n"
          ]
        }
      ]
    },
    {
      "cell_type": "code",
      "source": [
        "a = range(10)\n",
        "print(a)"
      ],
      "metadata": {
        "colab": {
          "base_uri": "https://localhost:8080/"
        },
        "id": "3vMGJncPPpX8",
        "outputId": "e482c108-40cd-4ac6-f895-a1d18e173851"
      },
      "execution_count": 8,
      "outputs": [
        {
          "output_type": "stream",
          "name": "stdout",
          "text": [
            "range(0, 10)\n"
          ]
        }
      ]
    },
    {
      "cell_type": "code",
      "source": [
        "a = range(10)\n",
        "b = list(a)\n",
        "print(b)"
      ],
      "metadata": {
        "colab": {
          "base_uri": "https://localhost:8080/"
        },
        "id": "kpO_eluiP7_i",
        "outputId": "d32306f4-5962-4a72-8fe3-9d9b5010945d"
      },
      "execution_count": 10,
      "outputs": [
        {
          "output_type": "stream",
          "name": "stdout",
          "text": [
            "[0, 1, 2, 3, 4, 5, 6, 7, 8, 9]\n"
          ]
        }
      ]
    },
    {
      "cell_type": "code",
      "source": [
        "my_list = list(range(5,15,2))\n",
        "print(my_list)"
      ],
      "metadata": {
        "colab": {
          "base_uri": "https://localhost:8080/"
        },
        "id": "ApmTXAgXQKnL",
        "outputId": "d6bd4b07-12ef-4840-8593-3568b2ad0708"
      },
      "execution_count": 11,
      "outputs": [
        {
          "output_type": "stream",
          "name": "stdout",
          "text": [
            "[5, 7, 9, 11, 13]\n"
          ]
        }
      ]
    },
    {
      "cell_type": "code",
      "source": [
        "def add_numbers (a,b):\n",
        "  result = a + b\n",
        "  return result\n",
        "result2 = add_numbers(10,2)\n",
        "print(result2)"
      ],
      "metadata": {
        "colab": {
          "base_uri": "https://localhost:8080/"
        },
        "id": "ig43bu_OQl4g",
        "outputId": "6e96f496-c856-4a9d-9e13-f5670db37152"
      },
      "execution_count": 13,
      "outputs": [
        {
          "output_type": "stream",
          "name": "stdout",
          "text": [
            "12\n",
            "12\n"
          ]
        }
      ]
    },
    {
      "cell_type": "code",
      "source": [
        "def calculate_sum(*args):\n",
        "  total = sum(args)\n",
        "  return total\n",
        "print(\"sum of 1,2,3,4:\", calculate_sum(1,2,3,4))\n",
        "print(\"sum of 1,2,3,4,5:\", calculate_sum(1,2,3,4,5))"
      ],
      "metadata": {
        "id": "2gdXHVTvSw6k",
        "outputId": "0695f53e-86af-493c-b24a-9174c4d85383",
        "colab": {
          "base_uri": "https://localhost:8080/"
        }
      },
      "execution_count": 14,
      "outputs": [
        {
          "output_type": "stream",
          "name": "stdout",
          "text": [
            "sum of 1,2,3,4: 10\n",
            "sum of 1,2,3,4,5: 15\n"
          ]
        }
      ]
    },
    {
      "cell_type": "code",
      "source": [
        "add = lambda x, y : x + y\n",
        "print(add(2,3))"
      ],
      "metadata": {
        "id": "1-Cn7Fq5UgfH",
        "outputId": "b888d150-073d-4826-f0ea-0f16e371cc63",
        "colab": {
          "base_uri": "https://localhost:8080/"
        }
      },
      "execution_count": 15,
      "outputs": [
        {
          "output_type": "stream",
          "name": "stdout",
          "text": [
            "5\n"
          ]
        }
      ]
    },
    {
      "cell_type": "code",
      "source": [
        "is_palindrome = lambda s: s == s[::-1]\n",
        "print(is_palindrome(\"racecar\"))\n",
        "print(is_palindrome(\"hello\"))"
      ],
      "metadata": {
        "id": "oJ9hrmvlVn1l",
        "outputId": "2f7020a0-ebd3-4118-a1e6-7d4374aedb18",
        "colab": {
          "base_uri": "https://localhost:8080/"
        }
      },
      "execution_count": 16,
      "outputs": [
        {
          "output_type": "stream",
          "name": "stdout",
          "text": [
            "True\n",
            "False\n"
          ]
        }
      ]
    }
  ]
}