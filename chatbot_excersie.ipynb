{
  "nbformat": 4,
  "nbformat_minor": 0,
  "metadata": {
    "colab": {
      "provenance": [],
      "authorship_tag": "ABX9TyPxpxfTWgBP1n0rr6VNEBxS",
      "include_colab_link": true
    },
    "kernelspec": {
      "name": "python3",
      "display_name": "Python 3"
    },
    "language_info": {
      "name": "python"
    }
  },
  "cells": [
    {
      "cell_type": "markdown",
      "metadata": {
        "id": "view-in-github",
        "colab_type": "text"
      },
      "source": [
        "<a href=\"https://colab.research.google.com/github/jahnavi-2406/python/blob/main/chatbot_excersie.ipynb\" target=\"_parent\"><img src=\"https://colab.research.google.com/assets/colab-badge.svg\" alt=\"Open In Colab\"/></a>"
      ]
    },
    {
      "cell_type": "code",
      "execution_count": 2,
      "metadata": {
        "colab": {
          "base_uri": "https://localhost:8080/"
        },
        "id": "RjFNWdddbhLD",
        "outputId": "e5959022-c1a2-4db1-be92-03c18cbefab1"
      },
      "outputs": [
        {
          "name": "stdout",
          "output_type": "stream",
          "text": [
            "hello\n"
          ]
        }
      ],
      "source": [
        "x= input()"
      ]
    },
    {
      "cell_type": "code",
      "source": [
        "end_words = ['esc','stop','exit','quit']"
      ],
      "metadata": {
        "id": "3Za54bjAby-t"
      },
      "execution_count": 3,
      "outputs": []
    },
    {
      "cell_type": "code",
      "source": [
        "def lowercase(sentence):\n",
        "  return sentence.lower()"
      ],
      "metadata": {
        "id": "0xhkbPQvcWn5"
      },
      "execution_count": 6,
      "outputs": []
    },
    {
      "cell_type": "code",
      "source": [
        "strings = '1'\n",
        "x = lowercase(strings)\n",
        "x"
      ],
      "metadata": {
        "colab": {
          "base_uri": "https://localhost:8080/",
          "height": 36
        },
        "id": "JZ8zYVlncshj",
        "outputId": "47686233-5a7c-484a-aa22-449bd41d2da6"
      },
      "execution_count": 8,
      "outputs": [
        {
          "output_type": "execute_result",
          "data": {
            "text/plain": [
              "'1'"
            ],
            "application/vnd.google.colaboratory.intrinsic+json": {
              "type": "string"
            }
          },
          "metadata": {},
          "execution_count": 8
        }
      ]
    },
    {
      "cell_type": "code",
      "source": [
        "x = input()\n",
        "while x not in end_words:\n",
        "  choice = input(\"choice 1 or 2 : \")\n",
        "  if choice ==1:\n",
        "    print(lowercase(x))\n",
        "  elif choice ==2:\n",
        "    print(uppercaseercase(x))\n",
        "  else:\n",
        "    print(\"invalid choice\")\n",
        "  x = input()"
      ],
      "metadata": {
        "colab": {
          "base_uri": "https://localhost:8080/"
        },
        "id": "dBktUYP1fAUh",
        "outputId": "c0235b41-a0ad-4af7-9eec-1dbc39ce8c12"
      },
      "execution_count": 10,
      "outputs": [
        {
          "name": "stdout",
          "output_type": "stream",
          "text": [
            "1\n",
            "choice 1 or 2 : 2\n",
            "invalid choice\n",
            "exit\n"
          ]
        }
      ]
    },
    {
      "cell_type": "code",
      "source": [],
      "metadata": {
        "id": "6YlJyXXBfHoi"
      },
      "execution_count": null,
      "outputs": []
    }
  ]
}